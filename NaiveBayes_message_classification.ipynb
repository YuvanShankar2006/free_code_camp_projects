{
  "nbformat": 4,
  "nbformat_minor": 0,
  "metadata": {
    "colab": {
      "provenance": [],
      "authorship_tag": "ABX9TyPMPuwXidRDAcUHq0qQ1vPw",
      "include_colab_link": true
    },
    "kernelspec": {
      "name": "python3",
      "display_name": "Python 3"
    },
    "language_info": {
      "name": "python"
    }
  },
  "cells": [
    {
      "cell_type": "markdown",
      "metadata": {
        "id": "view-in-github",
        "colab_type": "text"
      },
      "source": [
        "<a href=\"https://colab.research.google.com/github/YuvanShankar2006/free_code_camp_projects/blob/main/NaiveBayes_message_classification.ipynb\" target=\"_parent\"><img src=\"https://colab.research.google.com/assets/colab-badge.svg\" alt=\"Open In Colab\"/></a>"
      ]
    },
    {
      "cell_type": "code",
      "execution_count": 1,
      "metadata": {
        "id": "vFWKKdEfJyIg"
      },
      "outputs": [],
      "source": [
        "from sklearn.model_selection import train_test_split\n",
        "import pandas as pd\n",
        "from sklearn.feature_extraction.text import CountVectorizer\n",
        "from sklearn.naive_bayes import MultinomialNB\n",
        "from sklearn import metrics\n"
      ]
    },
    {
      "cell_type": "code",
      "source": [
        "msg=pd.read_csv('/content/6-dataset.csv', names=['message','label'])\n",
        "msg['labelnum']=msg.label.map({\"pos\":1,\"neg\":0})\n",
        "x,y=msg.message,msg.labelnum\n",
        "xtrain, xtest, ytrain, ytest = train_test_split(x, y, test_size=0.3, random_state=42)\n",
        "cv=CountVectorizer()\n",
        "xtrain_dtm=cv.fit_transform(xtrain)\n",
        "xtest_dtm=cv.transform(xtest)\n",
        "model=MultinomialNB().fit(xtrain_dtm,ytrain)\n",
        "predicted=model.predict(xtest_dtm)\n",
        "print(\"Accuracy :\",metrics.accuracy_score(ytest,predicted))\n",
        "print(\"Confusion metrics :\\n\",metrics.confusion_matrix(ytest,predicted))\n",
        "print(\"recall :\",metrics.recall_score(ytest,predicted))\n",
        "print(\"precision :\",metrics.precision_score(ytest,predicted))\n"
      ],
      "metadata": {
        "colab": {
          "base_uri": "https://localhost:8080/"
        },
        "id": "S7ojXzxUKY7I",
        "outputId": "df58df65-6967-4b89-e239-c336705ea1b4"
      },
      "execution_count": 14,
      "outputs": [
        {
          "output_type": "stream",
          "name": "stdout",
          "text": [
            "Accuracy : 0.3333333333333333\n",
            "Confusion metrics :\n",
            " [[1 0]\n",
            " [2 0]]\n",
            "recall : 0.0\n",
            "precision : 0.0\n"
          ]
        },
        {
          "output_type": "stream",
          "name": "stderr",
          "text": [
            "/usr/local/lib/python3.11/dist-packages/sklearn/metrics/_classification.py:1565: UndefinedMetricWarning: Precision is ill-defined and being set to 0.0 due to no predicted samples. Use `zero_division` parameter to control this behavior.\n",
            "  _warn_prf(average, modifier, f\"{metric.capitalize()} is\", len(result))\n"
          ]
        }
      ]
    }
  ]
}